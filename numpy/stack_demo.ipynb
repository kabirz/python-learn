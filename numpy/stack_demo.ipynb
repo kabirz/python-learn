{
 "cells": [
  {
   "cell_type": "markdown",
   "metadata": {},
   "source": [
    "#### numpy的合并方法\n",
    "![](axis.png)"
   ]
  },
  {
   "cell_type": "code",
   "execution_count": 1,
   "metadata": {},
   "outputs": [
    {
     "name": "stdout",
     "output_type": "stream",
     "text": [
      "[[ 0  1  2  3]\n",
      " [ 4  5  6  7]\n",
      " [ 8  9 10 11]]\n",
      "[[ 1  3  5  7]\n",
      " [ 9 11 13 15]\n",
      " [17 19 21 23]]\n"
     ]
    }
   ],
   "source": [
    "import numpy as np\n",
    "# from pprint import pprint as print\n",
    "a = np.arange(12).reshape(3,4)\n",
    "b = np.arange(1, 24, 2).reshape(3,4)\n",
    "print(a)\n",
    "print(b)"
   ]
  },
  {
   "cell_type": "markdown",
   "metadata": {},
   "source": [
    "##### numpy stack\n",
    "```python\n",
    "stack(arrays, axis=0, out=None) \n",
    "```\n",
    "沿着指定的axis对arrays(每个array的shape必须一样)进行拼接，返回值的维度比原arrays的维度高1  \n",
    "axis：默认为0，即第一个轴，若为-1即为第二个轴  \n",
    "![](stack.png)"
   ]
  },
  {
   "cell_type": "code",
   "execution_count": 2,
   "metadata": {},
   "outputs": [
    {
     "name": "stdout",
     "output_type": "stream",
     "text": [
      "[[[ 0  1  2  3]\n",
      "  [ 4  5  6  7]\n",
      "  [ 8  9 10 11]]\n",
      "\n",
      " [[ 1  3  5  7]\n",
      "  [ 9 11 13 15]\n",
      "  [17 19 21 23]]] (2, 3, 4)\n",
      "[[ 0  1  2  3]\n",
      " [ 4  5  6  7]\n",
      " [ 8  9 10 11]\n",
      " [ 1  3  5  7]\n",
      " [ 9 11 13 15]\n",
      " [17 19 21 23]]\n"
     ]
    }
   ],
   "source": [
    "# 按行合并，如(3,4) (3,4) ==> (2,3,4)\n",
    "s1 = np.stack((a,b))\n",
    "print(s1, s1.shape)\n",
    "print(s1.reshape(6,4))"
   ]
  },
  {
   "cell_type": "code",
   "execution_count": 3,
   "metadata": {},
   "outputs": [
    {
     "name": "stdout",
     "output_type": "stream",
     "text": [
      "[[[ 0  1  2  3]\n",
      "  [ 1  3  5  7]]\n",
      "\n",
      " [[ 4  5  6  7]\n",
      "  [ 9 11 13 15]]\n",
      "\n",
      " [[ 8  9 10 11]\n",
      "  [17 19 21 23]]] (3, 2, 4)\n",
      "[[ 0  1  2  3]\n",
      " [ 1  3  5  7]\n",
      " [ 4  5  6  7]\n",
      " [ 9 11 13 15]\n",
      " [ 8  9 10 11]\n",
      " [17 19 21 23]]\n"
     ]
    }
   ],
   "source": [
    "# 按列合并，如(3,4) (3,4) ==> (3,2,4)\n",
    "s2 = np.stack((a,b), axis=1)\n",
    "print(s2, s2.shape)\n",
    "print(s2.reshape(6,4))"
   ]
  },
  {
   "cell_type": "code",
   "execution_count": 4,
   "metadata": {},
   "outputs": [
    {
     "name": "stdout",
     "output_type": "stream",
     "text": [
      "[[[ 0  1]\n",
      "  [ 1  3]\n",
      "  [ 2  5]\n",
      "  [ 3  7]]\n",
      "\n",
      " [[ 4  9]\n",
      "  [ 5 11]\n",
      "  [ 6 13]\n",
      "  [ 7 15]]\n",
      "\n",
      " [[ 8 17]\n",
      "  [ 9 19]\n",
      "  [10 21]\n",
      "  [11 23]]] (3, 4, 2)\n",
      "[[ 0  1  1  3]\n",
      " [ 2  5  3  7]\n",
      " [ 4  9  5 11]\n",
      " [ 6 13  7 15]\n",
      " [ 8 17  9 19]\n",
      " [10 21 11 23]]\n"
     ]
    }
   ],
   "source": [
    "# 按列合并，如(3,4) (3,4) ==> (3,4,2)\n",
    "s2 = np.stack((a,b), axis=2)\n",
    "print(s2, s2.shape)\n",
    "print(s2.reshape(6,4))"
   ]
  },
  {
   "cell_type": "code",
   "execution_count": 5,
   "metadata": {},
   "outputs": [
    {
     "name": "stdout",
     "output_type": "stream",
     "text": [
      "[[ 0  1  2  3  1  3  5  7]\n",
      " [ 4  5  6  7  9 11 13 15]\n",
      " [ 8  9 10 11 17 19 21 23]] (3, 8)\n",
      "[[ 0  1  2  3  1  3  5  7]\n",
      " [ 4  5  6  7  9 11 13 15]\n",
      " [ 8  9 10 11 17 19 21 23]] (3, 8)\n",
      "[[ 0  1  2  3  1  3  5  7]\n",
      " [ 4  5  6  7  9 11 13 15]\n",
      " [ 8  9 10 11 17 19 21 23]] (3, 8)\n"
     ]
    }
   ],
   "source": [
    "# 水平方向 (3, 4) (3, 4) ==> (3, 8)\n",
    "s3 = np.hstack((a, b))\n",
    "print(s3, s3.shape)\n",
    "s31 = np.concatenate((a, b), axis=1)\n",
    "print(s31, s31.shape)\n",
    "s32 = np.column_stack((a,b))\n",
    "print(s32, s32.shape)\n"
   ]
  },
  {
   "cell_type": "code",
   "execution_count": 6,
   "metadata": {},
   "outputs": [
    {
     "name": "stdout",
     "output_type": "stream",
     "text": [
      "[[ 0  1  2  3]\n",
      " [ 4  5  6  7]\n",
      " [ 8  9 10 11]\n",
      " [ 1  3  5  7]\n",
      " [ 9 11 13 15]\n",
      " [17 19 21 23]] (6, 4)\n",
      "[[ 0  1  2  3]\n",
      " [ 4  5  6  7]\n",
      " [ 8  9 10 11]\n",
      " [ 1  3  5  7]\n",
      " [ 9 11 13 15]\n",
      " [17 19 21 23]] (6, 4)\n",
      "[[ 0  1  2  3]\n",
      " [ 4  5  6  7]\n",
      " [ 8  9 10 11]\n",
      " [ 1  3  5  7]\n",
      " [ 9 11 13 15]\n",
      " [17 19 21 23]] (6, 4)\n"
     ]
    }
   ],
   "source": [
    "#垂直方向 (3, 4) (3, 4) ==> (6, 4)\n",
    "s4 = np.vstack((a,b))\n",
    "print(s4, s4.shape)\n",
    "s41 = np.concatenate((a, b), axis=0)\n",
    "print(s41, s41.shape)\n",
    "s42 = np.row_stack((a,b))\n",
    "print(s42, s42.shape)"
   ]
  },
  {
   "cell_type": "markdown",
   "metadata": {},
   "source": [
    "#### 深度组合：沿着纵轴方向组合"
   ]
  },
  {
   "cell_type": "code",
   "execution_count": 7,
   "metadata": {},
   "outputs": [
    {
     "name": "stdout",
     "output_type": "stream",
     "text": [
      "[[[ 0  1]\n",
      "  [ 1  3]\n",
      "  [ 2  5]\n",
      "  [ 3  7]]\n",
      "\n",
      " [[ 4  9]\n",
      "  [ 5 11]\n",
      "  [ 6 13]\n",
      "  [ 7 15]]\n",
      "\n",
      " [[ 8 17]\n",
      "  [ 9 19]\n",
      "  [10 21]\n",
      "  [11 23]]] (3, 4, 2)\n"
     ]
    }
   ],
   "source": [
    "#沿着纵轴方向 (3, 4) (3, 4) ==> (3, 4, 2), 等同于np.stack((a,b), axis=2)\n",
    "s1 = np.dstack((a, b))\n",
    "print(s1, s1.shape)"
   ]
  },
  {
   "cell_type": "code",
   "execution_count": 8,
   "metadata": {},
   "outputs": [
    {
     "name": "stdout",
     "output_type": "stream",
     "text": [
      "[1 2 3 4 5 6 7 8 9]\n",
      "[[1 2 3]\n",
      " [4 5 6]\n",
      " [7 8 9]]\n"
     ]
    }
   ],
   "source": [
    "# np.append([1, 2, 3], [4, 5, 6], [7, 8, 9])\n",
    "n1 = np.append([1, 2, 3], [[4, 5, 6], [7, 8, 9]])\n",
    "print(n1)\n",
    "n2 = np.append([[1, 2, 3], [4, 5, 6]], [[7, 8, 9]], axis=0)\n",
    "print(n2)\n"
   ]
  },
  {
   "cell_type": "code",
   "execution_count": 13,
   "metadata": {},
   "outputs": [
    {
     "name": "stdout",
     "output_type": "stream",
     "text": [
      "[2 3 4 5 0 1 2 1 3 7 9]\n",
      "[[2 1]\n",
      " [3 3]\n",
      " [4 7]\n",
      " [5 9]]\n",
      "[[ 0  1  2  3]\n",
      " [ 4  5  6  7]\n",
      " [ 8  9 10 11]\n",
      " [ 1  3  5  7]\n",
      " [ 9 11 13 15]\n",
      " [17 19 21 23]]\n",
      "[[ 0  1  2  3  1  3  5  7]\n",
      " [ 4  5  6  7  9 11 13 15]\n",
      " [ 8  9 10 11 17 19 21 23]]\n"
     ]
    }
   ],
   "source": [
    "s = np.array([2, 3, 4, 5])\n",
    "y = np.array([1, 3, 7, 9])\n",
    "print(np.r_[s, 0, 1, 2, y])\n",
    "print(np.c_[s, y])\n",
    "print(np.r_[a, b])\n",
    "print(np.c_[a, b])\n"
   ]
  }
 ],
 "metadata": {
  "interpreter": {
   "hash": "570feb405e2e27c949193ac68f46852414290d515b0ba6e5d90d076ed2284471"
  },
  "kernelspec": {
   "display_name": "Python 3.8.6 64-bit",
   "language": "python",
   "name": "python3"
  },
  "language_info": {
   "codemirror_mode": {
    "name": "ipython",
    "version": 3
   },
   "file_extension": ".py",
   "mimetype": "text/x-python",
   "name": "python",
   "nbconvert_exporter": "python",
   "pygments_lexer": "ipython3",
   "version": "3.8.6"
  },
  "orig_nbformat": 4
 },
 "nbformat": 4,
 "nbformat_minor": 2
}
