{
 "cells": [
  {
   "cell_type": "code",
   "execution_count": 16,
   "metadata": {},
   "outputs": [],
   "source": [
    "import numpy as np\n",
    "import sys"
   ]
  },
  {
   "cell_type": "markdown",
   "metadata": {},
   "source": [
    "##### 基础用法"
   ]
  },
  {
   "cell_type": "code",
   "execution_count": 6,
   "metadata": {},
   "outputs": [
    {
     "data": {
      "text/plain": [
       "(array([2, 3, 4]),\n",
       " array([[ 0,  1,  2,  3],\n",
       "        [ 4,  5,  6,  7],\n",
       "        [ 8,  9, 10, 11]]))"
      ]
     },
     "execution_count": 6,
     "metadata": {},
     "output_type": "execute_result"
    }
   ],
   "source": [
    "np.array([2, 3, 4]), np.arange(12).reshape(3, 4)\n"
   ]
  },
  {
   "cell_type": "code",
   "execution_count": 5,
   "metadata": {},
   "outputs": [
    {
     "data": {
      "text/plain": [
       "(array([[ 0,  1,  2,  3],\n",
       "        [ 4,  5,  6,  7],\n",
       "        [ 8,  9, 10, 11]], dtype=uint8),\n",
       " (3, 4),\n",
       " 2,\n",
       " 'uint8',\n",
       " 1,\n",
       " 12)"
      ]
     },
     "execution_count": 5,
     "metadata": {},
     "output_type": "execute_result"
    }
   ],
   "source": [
    "a = np.arange(12, dtype='uint8').reshape(3, 4)\n",
    "a, a.shape, a.ndim, a.dtype.name, a.itemsize, a.size"
   ]
  },
  {
   "cell_type": "markdown",
   "metadata": {},
   "source": [
    "  * zeros, zeros_like\n",
    "  * ones, ones_like\n",
    "  * empty, empty_like\n",
    "  * full, full_like\n",
    "  * linsapce"
   ]
  },
  {
   "cell_type": "code",
   "execution_count": 143,
   "metadata": {},
   "outputs": [
    {
     "name": "stdout",
     "output_type": "stream",
     "text": [
      "[[0 0 0 0]\n",
      " [0 0 0 0]\n",
      " [0 0 0 0]]\n",
      "[[0 0 0 0 0]\n",
      " [0 0 0 0 0]\n",
      " [0 0 0 0 0]\n",
      " [0 0 0 0 0]]\n",
      "[[1 1 1 1]\n",
      " [1 1 1 1]\n",
      " [1 1 1 1]]\n",
      "[[1 1 1 1 1]\n",
      " [1 1 1 1 1]\n",
      " [1 1 1 1 1]\n",
      " [1 1 1 1 1]]\n"
     ]
    }
   ],
   "source": [
    "a = np.arange(20).reshape(4, 5)\n",
    "\n",
    "z = np.zeros((3, 4), dtype='uint32')\n",
    "z1 = np.zeros_like(a)\n",
    "o = np.ones((3, 4), dtype='uint32')\n",
    "o1 = np.ones_like(a)\n",
    "print(z, z1, sep='\\n')\n",
    "print(o, o1, sep='\\n')\n"
   ]
  },
  {
   "cell_type": "code",
   "execution_count": 144,
   "metadata": {},
   "outputs": [
    {
     "name": "stdout",
     "output_type": "stream",
     "text": [
      "[[1 1 1 1]\n",
      " [1 1 1 1]\n",
      " [1 1 1 1]]\n",
      "[[1 1 1 1 1]\n",
      " [1 1 1 1 1]\n",
      " [1 1 1 1 1]\n",
      " [1 1 1 1 1]]\n",
      "[[255 255 255 255]\n",
      " [255 255 255 255]\n",
      " [255 255 255 255]]\n",
      "[[100 100 100 100 100]\n",
      " [100 100 100 100 100]\n",
      " [100 100 100 100 100]\n",
      " [100 100 100 100 100]]\n",
      "[  0   5  10  15  20  25  30  35  40  45  50  55  60  65  70  75  80  85\n",
      "  90  95 100]\n"
     ]
    }
   ],
   "source": [
    "\n",
    "e = np.empty((3,4), dtype='uint32')\n",
    "f = np.full((3,4), 255, dtype='uint32')\n",
    "e1 = np.empty_like(a)\n",
    "f1 = np.full_like(a, 100)\n",
    "\n",
    "l = np.linspace(0, 100, 21).astype('uint8')\n",
    "# np.set_printoptions(threshold=sys.maxsize)\n",
    "print(e, e1, sep='\\n')\n",
    "print(f, f1, sep='\\n')\n",
    "print(l)"
   ]
  },
  {
   "cell_type": "code",
   "execution_count": 24,
   "metadata": {},
   "outputs": [
    {
     "data": {
      "text/plain": [
       "(array([1, 2, 3, 4, 5]),\n",
       " array([ 1,  4,  9, 16, 25]),\n",
       " array([ 2,  4,  6,  8, 10]),\n",
       " array([ 0.84147098,  0.90929743,  0.14112001, -0.7568025 , -0.95892427]),\n",
       " array([False, False, False, False, False]),\n",
       " array([False,  True, False,  True, False]))"
      ]
     },
     "execution_count": 24,
     "metadata": {},
     "output_type": "execute_result"
    }
   ],
   "source": [
    "a = np.arange(1, 6)\n",
    "a, a**2, a*2, np.sin(a), a == 0, a % 2 == 0"
   ]
  },
  {
   "cell_type": "code",
   "execution_count": 30,
   "metadata": {},
   "outputs": [
    {
     "data": {
      "text/plain": [
       "(array([1, 2, 3, 4]),\n",
       " array([2, 3, 4, 5]),\n",
       " array([ 2,  6, 12, 20]),\n",
       " 40,\n",
       " array([2, 3, 4, 5]))"
      ]
     },
     "execution_count": 30,
     "metadata": {},
     "output_type": "execute_result"
    }
   ],
   "source": [
    "a = np.arange(1,5)\n",
    "b = np.arange(2,6)\n",
    "a, b, a*b, a.dot(b)"
   ]
  },
  {
   "cell_type": "code",
   "execution_count": null,
   "metadata": {},
   "outputs": [],
   "source": [
    "A = np.array([[1,2,3,4], [2,3,4,5]])\n",
    "B = np.array([[5,6],[7,8], [5,3],[8,5]])"
   ]
  },
  {
   "cell_type": "code",
   "execution_count": 43,
   "metadata": {},
   "outputs": [
    {
     "data": {
      "text/plain": [
       "(array([[1, 2, 3, 4],\n",
       "        [2, 3, 4, 5]]),\n",
       " array([[5, 6],\n",
       "        [7, 8],\n",
       "        [5, 3],\n",
       "        [8, 5]]))"
      ]
     },
     "execution_count": 43,
     "metadata": {},
     "output_type": "execute_result"
    }
   ],
   "source": [
    "A, B"
   ]
  },
  {
   "cell_type": "code",
   "execution_count": 44,
   "metadata": {},
   "outputs": [
    {
     "data": {
      "text/plain": [
       "(array([[1, 2],\n",
       "        [2, 3],\n",
       "        [3, 4],\n",
       "        [4, 5]]),\n",
       " array([[5, 7, 5, 8],\n",
       "        [6, 8, 3, 5]]))"
      ]
     },
     "execution_count": 44,
     "metadata": {},
     "output_type": "execute_result"
    }
   ],
   "source": [
    "A.T, B.T"
   ]
  },
  {
   "cell_type": "code",
   "execution_count": 49,
   "metadata": {},
   "outputs": [
    {
     "data": {
      "text/plain": [
       "(array([[66, 51],\n",
       "        [91, 73]]),\n",
       " array([[66, 51],\n",
       "        [91, 73]]))"
      ]
     },
     "execution_count": 49,
     "metadata": {},
     "output_type": "execute_result"
    }
   ],
   "source": [
    "A @ B, A.dot(B)"
   ]
  },
  {
   "cell_type": "code",
   "execution_count": 47,
   "metadata": {},
   "outputs": [
    {
     "data": {
      "text/plain": [
       "(array([[ 5, 14, 15, 32],\n",
       "        [12, 24, 12, 25]]),\n",
       " array([[ 5, 12],\n",
       "        [14, 24],\n",
       "        [15, 12],\n",
       "        [32, 25]]))"
      ]
     },
     "execution_count": 47,
     "metadata": {},
     "output_type": "execute_result"
    }
   ],
   "source": [
    "A * B.T, B * A.T"
   ]
  },
  {
   "cell_type": "code",
   "execution_count": 87,
   "metadata": {},
   "outputs": [
    {
     "data": {
      "text/plain": [
       "array([[15, 19,  5,  4],\n",
       "       [15, 16, 10,  2],\n",
       "       [16, 10,  3,  2]], dtype=uint8)"
      ]
     },
     "execution_count": 87,
     "metadata": {},
     "output_type": "execute_result"
    }
   ],
   "source": [
    "rg = np.random.default_rng(10)\n",
    "b = rg.random((3,4),dtype=np.float32)\n",
    "(b * 20).astype(np.uint8)"
   ]
  },
  {
   "cell_type": "code",
   "execution_count": 88,
   "metadata": {},
   "outputs": [
    {
     "data": {
      "text/plain": [
       "(array([0, 1, 2]),\n",
       " array([1.        , 2.71828183, 7.3890561 ]),\n",
       " array([0.        , 1.        , 1.41421356]))"
      ]
     },
     "execution_count": 88,
     "metadata": {},
     "output_type": "execute_result"
    }
   ],
   "source": [
    "a = np.arange(3)\n",
    "b = np.exp(a)\n",
    "c = np.sqrt(a)\n",
    "a, b, c"
   ]
  },
  {
   "cell_type": "markdown",
   "metadata": {},
   "source": [
    "#### 索引，切片和迭代"
   ]
  },
  {
   "cell_type": "code",
   "execution_count": 91,
   "metadata": {},
   "outputs": [
    {
     "name": "stdout",
     "output_type": "stream",
     "text": [
      "[  0   1   8  27  64 125 216 343 512 729] 1 [ 8 27 64]\n",
      "[1000    1 1000   27 1000  125  216  343  512  729]\n"
     ]
    }
   ],
   "source": [
    "a = np.arange(10)**3\n",
    "print(a, a[1], a[2:5])\n",
    "a[:6:2] = 1000\n",
    "print(a)"
   ]
  },
  {
   "cell_type": "code",
   "execution_count": 105,
   "metadata": {},
   "outputs": [
    {
     "name": "stdout",
     "output_type": "stream",
     "text": [
      "[[ 0  1  2  3]\n",
      " [10 11 12 13]\n",
      " [20 21 22 23]\n",
      " [30 31 32 33]\n",
      " [40 41 42 43]]\n",
      "23 23\n",
      "[ 2 12 22 32 42]\n",
      "[[ 0  1 10  3]\n",
      " [10 11 10 13]\n",
      " [20 21 10 23]\n",
      " [30 31 10 33]\n",
      " [40 41 10 43]]\n",
      "[[20 20]\n",
      " [20 20]\n",
      " [20 20]]\n",
      "[[20  1 20  3]\n",
      " [10 11 10 13]\n",
      " [20 21 20 23]\n",
      " [30 31 10 33]\n",
      " [20 41 20 43]]\n",
      "[ 1 11 21 31 41]\n"
     ]
    }
   ],
   "source": [
    "def fun(x, y):\n",
    "\treturn 10*x+y\n",
    "b = np.fromfunction(fun,(5,4), dtype=np.uint8)\n",
    "print(b)\n",
    "print(b[2,3], b[2][3])\n",
    "print(b[:,2])# 显示第三列\n",
    "b[:,2] = 10\n",
    "print(b)\n",
    "b[::2, ::2] = 20\n",
    "print(b[::2, ::2])\n",
    "print(b)\n",
    "print(b[..., 1])"
   ]
  },
  {
   "cell_type": "code",
   "execution_count": 137,
   "metadata": {},
   "outputs": [],
   "source": [
    "import numpy as np\n",
    "from PIL import Image\n",
    "\n",
    "img = np.fromfile('../img.grbg', dtype='uint16').reshape(240, 320)\n",
    "img = img/4\n",
    "img = img.astype('uint8')\n",
    "\n",
    "g1 = img[::2, ::2]\n",
    "g2 = img[1::2, 1::2]\n",
    "# g = np.hstack((g1, g2)).reshape(240, 160)\n",
    "g = np.stack((g1, g2), axis=1).reshape(240, 160)\n",
    "g = g.repeat(2, axis=1)\n",
    "\n",
    "r = img[::2, 1::2]\n",
    "r = r.repeat(2, axis=0).repeat(2, axis=1)\n",
    "\n",
    "b = img[1::2, ::2]\n",
    "b = b.repeat(2, axis=0).repeat(2, axis=1)\n",
    "\n",
    "rgb = np.dstack((r, g, b))\n",
    "\n",
    "img1 = Image.fromarray(rgb)\n",
    "img1.save('grbg.jpg')"
   ]
  },
  {
   "cell_type": "markdown",
   "metadata": {},
   "source": [
    "* floor: 取整数部分\n",
    "* ceil: 取整数部分+1\n",
    "* round: 四舍五入 "
   ]
  },
  {
   "cell_type": "code",
   "execution_count": 146,
   "metadata": {},
   "outputs": [
    {
     "data": {
      "text/plain": [
       "(array([1., 4., 6., 4., 6.]),\n",
       " array([2., 5., 7., 5., 7.]),\n",
       " array([1., 4., 6., 4., 7.]))"
      ]
     },
     "execution_count": 146,
     "metadata": {},
     "output_type": "execute_result"
    }
   ],
   "source": [
    "a = np.array([1.3, 4.3, 6.5, 4.3, 6.7])\n",
    "b = np.floor(a)\n",
    "c = np.ceil(a)\n",
    "d = np.round(a)\n",
    "b, c, d\n"
   ]
  },
  {
   "cell_type": "markdown",
   "metadata": {},
   "source": [
    "两者的功能是一致的，将多维数组降为一维，但是两者的区别是返回拷贝还是返回视图  \n",
    "`np.flatten()`返回一份拷贝，对拷贝所做修改不会影响原始矩阵，而  \n",
    "`np.ravel()`返回的是视图，修改时会影响原始矩阵"
   ]
  },
  {
   "cell_type": "code",
   "execution_count": 148,
   "metadata": {},
   "outputs": [
    {
     "name": "stdout",
     "output_type": "stream",
     "text": [
      "[[ 0  1  2  3]\n",
      " [ 4  5  6  7]\n",
      " [ 8  9 10 11]]\n",
      "[[ 0  1]\n",
      " [ 2  3]\n",
      " [ 4  5]\n",
      " [ 6  7]\n",
      " [ 8  9]\n",
      " [10 11]]\n"
     ]
    }
   ],
   "source": [
    "a = np.arange(12).reshape(3,4)\n",
    "print(a)\n",
    "b = a.reshape(6, -1)\n",
    "print(b)"
   ]
  }
 ],
 "metadata": {
  "interpreter": {
   "hash": "570feb405e2e27c949193ac68f46852414290d515b0ba6e5d90d076ed2284471"
  },
  "kernelspec": {
   "display_name": "Python 3.8.6 64-bit",
   "language": "python",
   "name": "python3"
  },
  "language_info": {
   "codemirror_mode": {
    "name": "ipython",
    "version": 3
   },
   "file_extension": ".py",
   "mimetype": "text/x-python",
   "name": "python",
   "nbconvert_exporter": "python",
   "pygments_lexer": "ipython3",
   "version": "3.8.6"
  },
  "orig_nbformat": 4
 },
 "nbformat": 4,
 "nbformat_minor": 2
}
