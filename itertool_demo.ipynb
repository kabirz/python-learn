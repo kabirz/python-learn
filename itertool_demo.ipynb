{
 "cells": [
  {
   "cell_type": "markdown",
   "metadata": {},
   "source": [
    "##### itertools的用法\n",
    "可参考官方文档（[链接](https://docs.python.org/zh-cn/3/library/itertools.html)）"
   ]
  },
  {
   "cell_type": "code",
   "execution_count": null,
   "metadata": {},
   "outputs": [],
   "source": [
    "import itertools\n"
   ]
  },
  {
   "cell_type": "markdown",
   "metadata": {},
   "source": [
    "##### 无穷迭代器"
   ]
  },
  {
   "cell_type": "code",
   "execution_count": 35,
   "metadata": {},
   "outputs": [
    {
     "name": "stdout",
     "output_type": "stream",
     "text": [
      "10 12 14 16 18 20 22 24 26 28 30 32 34 36 38 40 42 \n",
      "[1, 2, 3, 4, 1, 2, 3, 4, 1, 2, 3, 4, 1, 2, 3, 4, 1, 2, 3, 4, 1]\n",
      "10\n",
      "10\n",
      "10\n"
     ]
    }
   ],
   "source": [
    "for i in itertools.count(10, 2):  # 10以上的偶数无限迭代\n",
    "    print(i, end=' ')\n",
    "    if i > 40:\n",
    "        break\n",
    "print()\n",
    "l = []\n",
    "for i in itertools.cycle(range(1, 5)):  # 1，2，3，4无限迭代\n",
    "    l.append(i)\n",
    "    if len(l) > 20:\n",
    "        print(l)\n",
    "        break\n",
    "for i in itertools.repeat(10, 3):  # 10 10 10\n",
    "    print(i)\n"
   ]
  },
  {
   "cell_type": "markdown",
   "metadata": {},
   "source": [
    "#### 根据最短输入序列长度停止的迭代器"
   ]
  },
  {
   "cell_type": "code",
   "execution_count": 34,
   "metadata": {},
   "outputs": [
    {
     "name": "stdout",
     "output_type": "stream",
     "text": [
      "1 3 6 10 15\n",
      "1 2 3 4 5 6 7 8 9 10\n",
      "1 2 3 4 5 6 7 8 9 10\n",
      "1 3 5\n"
     ]
    }
   ],
   "source": [
    "# 求和 1， 1+3， 1+2+3， 1+3+3+4， 1+2+3+4+5\n",
    "a = itertools.accumulate([1, 2, 3, 4, 5])\n",
    "print(*a)\n",
    "b = itertools.chain([1, 2, 3, 4], [5, 6, 7, 8], [9, 10])\n",
    "print(*b)\n",
    "c = itertools.chain.from_iterable([[1, 2, 3, 4], [5, 6, 7, 8], [9, 10]])\n",
    "print(*c)\n",
    "d = itertools.compress([1, 2, 3, 4, 5], [1, 0, 1, 0, 1])\n",
    "print(*d)\n"
   ]
  },
  {
   "cell_type": "markdown",
   "metadata": {},
   "source": [
    "#### 排列组合迭代器："
   ]
  },
  {
   "cell_type": "code",
   "execution_count": null,
   "metadata": {},
   "outputs": [],
   "source": [
    "for i, j in itertools.product(range(1, 10), repeat=2):\n",
    "    if j > i:\n",
    "        continue\n",
    "    print(f'{i} x {j} ={i*j:2}', end='   ')\n",
    "    if i == j:\n",
    "        print()\n"
   ]
  },
  {
   "cell_type": "code",
   "execution_count": 33,
   "metadata": {},
   "outputs": [
    {
     "name": "stdout",
     "output_type": "stream",
     "text": [
      "(1, 2) (1, 3) (1, 4) (2, 1) (2, 3) (2, 4) (3, 1) (3, 2) (3, 4) (4, 1) (4, 2) (4, 3)\n",
      "('a', 'b') ('a', 'c') ('a', 'd') ('b', 'a') ('b', 'c') ('b', 'd') ('c', 'a') ('c', 'b') ('c', 'd') ('d', 'a') ('d', 'b') ('d', 'c')\n",
      "(1, 2) (1, 3) (1, 4) (2, 3) (2, 4) (3, 4)\n",
      "('a', 'b') ('a', 'c') ('a', 'd') ('b', 'c') ('b', 'd') ('c', 'd')\n",
      "(1, 1) (1, 2) (1, 3) (1, 4) (2, 2) (2, 3) (2, 4) (3, 3) (3, 4) (4, 4)\n",
      "('a', 'a') ('a', 'b') ('a', 'c') ('a', 'd') ('b', 'b') ('b', 'c') ('b', 'd') ('c', 'c') ('c', 'd') ('d', 'd')\n"
     ]
    }
   ],
   "source": [
    "a = itertools.permutations([1, 2, 3, 4], 2)  # 有序无相同元素重复， 元素前后可\n",
    "print(*a)\n",
    "a = itertools.permutations('abcd', 2)\n",
    "print(*a)\n",
    "a = itertools.combinations([1, 2, 3, 4], 2)  # 有序不重复\n",
    "print(*a)\n",
    "a = itertools.combinations('abcd', 2)\n",
    "print(*a)\n",
    "a = itertools.combinations_with_replacement([1, 2, 3, 4], 2)  # 有序有相同元素重复，元素不可前后\n",
    "print(*a)\n",
    "a = itertools.combinations_with_replacement('abcd', 2)\n",
    "print(*a)\n"
   ]
  }
 ],
 "metadata": {
  "interpreter": {
   "hash": "570feb405e2e27c949193ac68f46852414290d515b0ba6e5d90d076ed2284471"
  },
  "kernelspec": {
   "display_name": "Python 3.8.6 64-bit",
   "language": "python",
   "name": "python3"
  },
  "language_info": {
   "codemirror_mode": {
    "name": "ipython",
    "version": 3
   },
   "file_extension": ".py",
   "mimetype": "text/x-python",
   "name": "python",
   "nbconvert_exporter": "python",
   "pygments_lexer": "ipython3",
   "version": "3.8.6"
  },
  "orig_nbformat": 4
 },
 "nbformat": 4,
 "nbformat_minor": 2
}
