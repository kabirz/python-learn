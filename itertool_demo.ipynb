{
 "cells": [
  {
   "cell_type": "markdown",
   "metadata": {},
   "source": [
    "##### itertools的用法\n",
    "可参考官方文档（[链接](https://docs.python.org/zh-cn/3/library/itertools.html)）"
   ]
  },
  {
   "cell_type": "code",
   "execution_count": null,
   "metadata": {},
   "outputs": [],
   "source": [
    "import itertools\n"
   ]
  },
  {
   "cell_type": "markdown",
   "metadata": {},
   "source": [
    "##### 无穷迭代器"
   ]
  },
  {
   "cell_type": "code",
   "execution_count": null,
   "metadata": {},
   "outputs": [],
   "source": [
    "for i in itertools.count(10, 2):  # 10以上的偶数无限迭代\n",
    "    print(i, end=' ')\n",
    "    if i > 40:\n",
    "        break\n",
    "print()\n",
    "l = []\n",
    "for i in itertools.cycle(range(1, 5)):  # 1，2，3，4无限迭代\n",
    "    l.append(i)\n",
    "    if len(l) > 20:\n",
    "        print(l)\n",
    "        break\n",
    "for i in itertools.repeat(10, 3):  # 10 10 10\n",
    "    print(i)\n"
   ]
  },
  {
   "cell_type": "markdown",
   "metadata": {},
   "source": [
    "#### 根据最短输入序列长度停止的迭代器"
   ]
  },
  {
   "cell_type": "code",
   "execution_count": null,
   "metadata": {},
   "outputs": [],
   "source": [
    "# 求和 1， 1+3， 1+2+3， 1+3+3+4， 1+2+3+4+5\n",
    "a = itertools.accumulate([1, 2, 3, 4, 5])\n",
    "print(list(a))\n",
    "b = itertools.chain([1, 2, 3, 4], [5, 6, 7, 8], [9, 10])\n",
    "print(list(b))\n",
    "c = itertools.chain.from_iterable([[1, 2, 3, 4], [5, 6, 7, 8], [9, 10]])\n",
    "print(list(c))\n",
    "d = itertools.compress([1, 2, 3, 4, 5], [1, 0, 1, 0, 1])\n",
    "print(list(d))\n"
   ]
  },
  {
   "cell_type": "markdown",
   "metadata": {},
   "source": [
    "#### 排列组合迭代器："
   ]
  },
  {
   "cell_type": "code",
   "execution_count": null,
   "metadata": {},
   "outputs": [],
   "source": [
    "for i, j in itertools.product(range(1, 10), repeat=2):\n",
    "    if j > i:\n",
    "        continue\n",
    "    print(f'{i} x {j} ={i*j:2}', end='   ')\n",
    "    if i == j:\n",
    "        print()\n"
   ]
  },
  {
   "cell_type": "code",
   "execution_count": null,
   "metadata": {},
   "outputs": [],
   "source": [
    "a = itertools.permutations([1, 2, 3, 4], 2)  # 有序无相同元素重复， 元素前后可\n",
    "print(list(a))\n",
    "a = itertools.permutations('abcd', 2)\n",
    "print(list(a))\n",
    "a = itertools.combinations([1, 2, 3, 4], 2)  # 有序不重复\n",
    "print(list(a))\n",
    "a = itertools.combinations('abcd', 2)\n",
    "print(list(a))\n",
    "a = itertools.combinations_with_replacement([1, 2, 3, 4], 2)  # 有序有相同元素重复，元素不可前后\n",
    "print(list(a))\n",
    "a = itertools.combinations_with_replacement('abcd', 2)\n",
    "print(list(a))\n"
   ]
  }
 ],
 "metadata": {
  "interpreter": {
   "hash": "570feb405e2e27c949193ac68f46852414290d515b0ba6e5d90d076ed2284471"
  },
  "kernelspec": {
   "display_name": "Python 3.8.6 64-bit",
   "language": "python",
   "name": "python3"
  },
  "language_info": {
   "codemirror_mode": {
    "name": "ipython",
    "version": 3
   },
   "file_extension": ".py",
   "mimetype": "text/x-python",
   "name": "python",
   "nbconvert_exporter": "python",
   "pygments_lexer": "ipython3",
   "version": "3.8.6"
  },
  "orig_nbformat": 4
 },
 "nbformat": 4,
 "nbformat_minor": 2
}
