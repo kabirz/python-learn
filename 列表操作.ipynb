{
 "cells": [
  {
   "cell_type": "markdown",
   "metadata": {},
   "source": [
    "#### 方法1：宇宙第一加号大法"
   ]
  },
  {
   "cell_type": "code",
   "execution_count": 3,
   "metadata": {},
   "outputs": [
    {
     "data": {
      "text/plain": [
       "[1, 2, 3, 4, 5, 6, 7, 8]"
      ]
     },
     "execution_count": 3,
     "metadata": {},
     "output_type": "execute_result"
    }
   ],
   "source": [
    "a = [1, 2, 3, 4]\n",
    "b = [5, 6, 7, 8]\n",
    "a + b\n"
   ]
  },
  {
   "cell_type": "markdown",
   "metadata": {},
   "source": [
    "#### 方法2：自动拆箱和装箱的星号大法\n"
   ]
  },
  {
   "cell_type": "code",
   "execution_count": 4,
   "metadata": {},
   "outputs": [
    {
     "data": {
      "text/plain": [
       "[1, 2, 3, 4, 5, 6, 7, 8]"
      ]
     },
     "execution_count": 4,
     "metadata": {},
     "output_type": "execute_result"
    }
   ],
   "source": [
    "[*a, *b]"
   ]
  },
  {
   "cell_type": "code",
   "execution_count": 6,
   "metadata": {},
   "outputs": [
    {
     "name": "stdout",
     "output_type": "stream",
     "text": [
      "(1, 2, 3)\n",
      "{'a': 20, 'b': 30}\n"
     ]
    }
   ],
   "source": [
    "def  fun1(*x):\n",
    "    print(x)\n",
    "def fun2(**x):\n",
    "    print(x)\n",
    "fun1(1,2,3)\n",
    "fun2(a=20,b=30)\n",
    "import itertools"
   ]
  },
  {
   "cell_type": "markdown",
   "metadata": {},
   "source": [
    "##### list去重"
   ]
  },
  {
   "cell_type": "code",
   "execution_count": 13,
   "metadata": {},
   "outputs": [
    {
     "name": "stdout",
     "output_type": "stream",
     "text": [
      "['d', 'a', 'f', 'b', 'c']\n",
      "['d', 'a', 'f', 'b', 'c']\n",
      "['d', 'a', 'f', 'b', 'c']\n",
      "['d', 'a', 'f', 'b', 'c']\n"
     ]
    }
   ],
   "source": [
    "L = ['d','a','f','d','b','c','d','b','c','a']\n",
    "# 1\n",
    "l1 = sorted(list(set(L)), key=L.index)\n",
    "print(l1)\n",
    "# 2\n",
    "l2 = list({}.fromkeys(L).keys())\n",
    "print(l1)\n",
    "# 3\n",
    "import pandas as pd\n",
    "l3 = pd.unique(L).tolist()\n",
    "print(l3)\n",
    "# 4\n",
    "import numpy as np\n",
    "l4 = sorted(np.unique(L).tolist(), key=L.index)\n",
    "print(l4)"
   ]
  }
 ],
 "metadata": {
  "interpreter": {
   "hash": "570feb405e2e27c949193ac68f46852414290d515b0ba6e5d90d076ed2284471"
  },
  "kernelspec": {
   "display_name": "Python 3.8.6 64-bit",
   "language": "python",
   "name": "python3"
  },
  "language_info": {
   "codemirror_mode": {
    "name": "ipython",
    "version": 3
   },
   "file_extension": ".py",
   "mimetype": "text/x-python",
   "name": "python",
   "nbconvert_exporter": "python",
   "pygments_lexer": "ipython3",
   "version": "3.8.6"
  },
  "orig_nbformat": 4
 },
 "nbformat": 4,
 "nbformat_minor": 2
}
